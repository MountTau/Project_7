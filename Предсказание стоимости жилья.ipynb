{
 "cells": [
  {
   "cell_type": "markdown",
   "id": "GEqQaHzsZ_bA",
   "metadata": {
    "id": "GEqQaHzsZ_bA"
   },
   "source": [
    "# Предсказание стоимости жилья\n",
    "\n",
    "В проекте вам нужно обучить модель линейной регрессии на данных о жилье в Калифорнии в 1990 году. На основе данных нужно предсказать медианную стоимость дома в жилом массиве. Обучите модель и сделайте предсказания на тестовой выборке. Для оценки качества модели используйте метрики RMSE, MAE и R2."
   ]
  },
  {
   "cell_type": "markdown",
   "id": "53871372",
   "metadata": {
    "id": "53871372"
   },
   "source": [
    "## Подготовка данных"
   ]
  },
  {
   "cell_type": "code",
   "execution_count": 171,
   "id": "df92e3ec",
   "metadata": {
    "id": "df92e3ec"
   },
   "outputs": [],
   "source": [
    "# Импорт библиотек\n",
    "import pandas as pd \n",
    "import numpy as np\n",
    "\n",
    "import pyspark\n",
    "from pyspark.sql import SparkSession\n",
    "from pyspark.sql.types import *\n",
    "import pyspark.sql.functions as F\n",
    "\n",
    "from pyspark.ml import Pipeline\n",
    "from pyspark.ml.feature import StringIndexer, VectorAssembler, StandardScaler\n",
    "from pyspark.ml.feature import OneHotEncoder\n",
    "from pyspark.ml.regression import LinearRegression\n",
    "from pyspark.mllib.evaluation import RegressionMetrics\n",
    "from pyspark.ml.evaluation import RegressionEvaluator\n",
    "\n",
    "RANDOM_SEED = 2022\n",
    "\n",
    "# Инициализация Spark-сессии\n",
    "spark = SparkSession.builder \\\n",
    "                    .master(\"local\") \\\n",
    "                    .appName(\"EDA California Housing\") \\\n",
    "                    .getOrCreate()"
   ]
  },
  {
   "cell_type": "code",
   "execution_count": 172,
   "id": "c860983c",
   "metadata": {},
   "outputs": [
    {
     "name": "stdout",
     "output_type": "stream",
     "text": [
      "+---------+--------+------------------+-----------+--------------+----------+----------+-------------+------------------+---------------+\n",
      "|longitude|latitude|housing_median_age|total_rooms|total_bedrooms|population|households|median_income|median_house_value|ocean_proximity|\n",
      "+---------+--------+------------------+-----------+--------------+----------+----------+-------------+------------------+---------------+\n",
      "|  -122.23|   37.88|              41.0|      880.0|         129.0|     322.0|     126.0|       8.3252|          452600.0|       NEAR BAY|\n",
      "|  -122.22|   37.86|              21.0|     7099.0|        1106.0|    2401.0|    1138.0|       8.3014|          358500.0|       NEAR BAY|\n",
      "|  -122.24|   37.85|              52.0|     1467.0|         190.0|     496.0|     177.0|       7.2574|          352100.0|       NEAR BAY|\n",
      "|  -122.25|   37.85|              52.0|     1274.0|         235.0|     558.0|     219.0|       5.6431|          341300.0|       NEAR BAY|\n",
      "|  -122.25|   37.85|              52.0|     1627.0|         280.0|     565.0|     259.0|       3.8462|          342200.0|       NEAR BAY|\n",
      "+---------+--------+------------------+-----------+--------------+----------+----------+-------------+------------------+---------------+\n",
      "only showing top 5 rows\n",
      "\n"
     ]
    }
   ],
   "source": [
    "# Чтение файла\n",
    "df_housing = spark.read.load('/datasets/housing.csv', format=\"csv\", sep=\",\", inferSchema=True, header=\"true\")\n",
    "\n",
    "# Вывод первых 5 строк\n",
    "df_housing.show(5)"
   ]
  },
  {
   "cell_type": "code",
   "execution_count": 173,
   "id": "3a6146df",
   "metadata": {
    "scrolled": true
   },
   "outputs": [
    {
     "data": {
      "text/html": [
       "<div>\n",
       "<style scoped>\n",
       "    .dataframe tbody tr th:only-of-type {\n",
       "        vertical-align: middle;\n",
       "    }\n",
       "\n",
       "    .dataframe tbody tr th {\n",
       "        vertical-align: top;\n",
       "    }\n",
       "\n",
       "    .dataframe thead th {\n",
       "        text-align: right;\n",
       "    }\n",
       "</style>\n",
       "<table border=\"1\" class=\"dataframe\">\n",
       "  <thead>\n",
       "    <tr style=\"text-align: right;\">\n",
       "      <th></th>\n",
       "      <th>column</th>\n",
       "      <th>type</th>\n",
       "    </tr>\n",
       "  </thead>\n",
       "  <tbody>\n",
       "    <tr>\n",
       "      <th>0</th>\n",
       "      <td>longitude</td>\n",
       "      <td>double</td>\n",
       "    </tr>\n",
       "    <tr>\n",
       "      <th>1</th>\n",
       "      <td>latitude</td>\n",
       "      <td>double</td>\n",
       "    </tr>\n",
       "    <tr>\n",
       "      <th>2</th>\n",
       "      <td>housing_median_age</td>\n",
       "      <td>double</td>\n",
       "    </tr>\n",
       "    <tr>\n",
       "      <th>3</th>\n",
       "      <td>total_rooms</td>\n",
       "      <td>double</td>\n",
       "    </tr>\n",
       "    <tr>\n",
       "      <th>4</th>\n",
       "      <td>total_bedrooms</td>\n",
       "      <td>double</td>\n",
       "    </tr>\n",
       "    <tr>\n",
       "      <th>5</th>\n",
       "      <td>population</td>\n",
       "      <td>double</td>\n",
       "    </tr>\n",
       "    <tr>\n",
       "      <th>6</th>\n",
       "      <td>households</td>\n",
       "      <td>double</td>\n",
       "    </tr>\n",
       "    <tr>\n",
       "      <th>7</th>\n",
       "      <td>median_income</td>\n",
       "      <td>double</td>\n",
       "    </tr>\n",
       "    <tr>\n",
       "      <th>8</th>\n",
       "      <td>median_house_value</td>\n",
       "      <td>double</td>\n",
       "    </tr>\n",
       "    <tr>\n",
       "      <th>9</th>\n",
       "      <td>ocean_proximity</td>\n",
       "      <td>string</td>\n",
       "    </tr>\n",
       "  </tbody>\n",
       "</table>\n",
       "</div>"
      ],
      "text/plain": [
       "               column    type\n",
       "0           longitude  double\n",
       "1            latitude  double\n",
       "2  housing_median_age  double\n",
       "3         total_rooms  double\n",
       "4      total_bedrooms  double\n",
       "5          population  double\n",
       "6          households  double\n",
       "7       median_income  double\n",
       "8  median_house_value  double\n",
       "9     ocean_proximity  string"
      ]
     },
     "execution_count": 173,
     "metadata": {},
     "output_type": "execute_result"
    }
   ],
   "source": [
    "# вывед названий колонок \n",
    "pd.DataFrame(df_housing.dtypes, columns=['column', 'type']).head(10)"
   ]
  },
  {
   "cell_type": "markdown",
   "id": "a96e8616",
   "metadata": {},
   "source": [
    "В колонках датасета содержатся следующие данные:\n",
    "- longitude — широта;\n",
    "- latitude — долгота;\n",
    "- housing_median_age — медианный возраст жителей жилого массива;\n",
    "- total_rooms — общее количество комнат в домах жилого массива;\n",
    "- total_bedrooms — общее количество спален в домах жилого массива;\n",
    "- population — количество человек, которые проживают в жилом массиве;\n",
    "- households — количество домовладений в жилом массиве;\n",
    "- median_income — медианный доход жителей жилого массива;\n",
    "- median_house_value — медианная стоимость дома в жилом массиве;\n",
    "- ocean_proximity — близость к океану.\n",
    "\n",
    "Столбец median_house_value является целевым признаком."
   ]
  },
  {
   "cell_type": "code",
   "execution_count": 174,
   "id": "2c09ee0d",
   "metadata": {
    "scrolled": false
   },
   "outputs": [
    {
     "data": {
      "text/html": [
       "<div>\n",
       "<style scoped>\n",
       "    .dataframe tbody tr th:only-of-type {\n",
       "        vertical-align: middle;\n",
       "    }\n",
       "\n",
       "    .dataframe tbody tr th {\n",
       "        vertical-align: top;\n",
       "    }\n",
       "\n",
       "    .dataframe thead th {\n",
       "        text-align: right;\n",
       "    }\n",
       "</style>\n",
       "<table border=\"1\" class=\"dataframe\">\n",
       "  <thead>\n",
       "    <tr style=\"text-align: right;\">\n",
       "      <th></th>\n",
       "      <th>summary</th>\n",
       "      <th>longitude</th>\n",
       "      <th>latitude</th>\n",
       "      <th>housing_median_age</th>\n",
       "      <th>total_rooms</th>\n",
       "      <th>total_bedrooms</th>\n",
       "      <th>population</th>\n",
       "      <th>households</th>\n",
       "      <th>median_income</th>\n",
       "      <th>median_house_value</th>\n",
       "      <th>ocean_proximity</th>\n",
       "    </tr>\n",
       "  </thead>\n",
       "  <tbody>\n",
       "    <tr>\n",
       "      <th>0</th>\n",
       "      <td>count</td>\n",
       "      <td>20640</td>\n",
       "      <td>20640</td>\n",
       "      <td>20640</td>\n",
       "      <td>20640</td>\n",
       "      <td>20433</td>\n",
       "      <td>20640</td>\n",
       "      <td>20640</td>\n",
       "      <td>20640</td>\n",
       "      <td>20640</td>\n",
       "      <td>20640</td>\n",
       "    </tr>\n",
       "    <tr>\n",
       "      <th>1</th>\n",
       "      <td>mean</td>\n",
       "      <td>-119.56970445736148</td>\n",
       "      <td>35.6318614341087</td>\n",
       "      <td>28.639486434108527</td>\n",
       "      <td>2635.7630813953488</td>\n",
       "      <td>537.8705525375618</td>\n",
       "      <td>1425.4767441860465</td>\n",
       "      <td>499.5396802325581</td>\n",
       "      <td>3.8706710029070246</td>\n",
       "      <td>206855.81690891474</td>\n",
       "      <td>None</td>\n",
       "    </tr>\n",
       "    <tr>\n",
       "      <th>2</th>\n",
       "      <td>stddev</td>\n",
       "      <td>2.003531723502584</td>\n",
       "      <td>2.135952397457101</td>\n",
       "      <td>12.58555761211163</td>\n",
       "      <td>2181.6152515827944</td>\n",
       "      <td>421.38507007403115</td>\n",
       "      <td>1132.46212176534</td>\n",
       "      <td>382.3297528316098</td>\n",
       "      <td>1.899821717945263</td>\n",
       "      <td>115395.61587441359</td>\n",
       "      <td>None</td>\n",
       "    </tr>\n",
       "    <tr>\n",
       "      <th>3</th>\n",
       "      <td>min</td>\n",
       "      <td>-124.35</td>\n",
       "      <td>32.54</td>\n",
       "      <td>1.0</td>\n",
       "      <td>2.0</td>\n",
       "      <td>1.0</td>\n",
       "      <td>3.0</td>\n",
       "      <td>1.0</td>\n",
       "      <td>0.4999</td>\n",
       "      <td>14999.0</td>\n",
       "      <td>&lt;1H OCEAN</td>\n",
       "    </tr>\n",
       "    <tr>\n",
       "      <th>4</th>\n",
       "      <td>max</td>\n",
       "      <td>-114.31</td>\n",
       "      <td>41.95</td>\n",
       "      <td>52.0</td>\n",
       "      <td>39320.0</td>\n",
       "      <td>6445.0</td>\n",
       "      <td>35682.0</td>\n",
       "      <td>6082.0</td>\n",
       "      <td>15.0001</td>\n",
       "      <td>500001.0</td>\n",
       "      <td>NEAR OCEAN</td>\n",
       "    </tr>\n",
       "  </tbody>\n",
       "</table>\n",
       "</div>"
      ],
      "text/plain": [
       "  summary            longitude           latitude  housing_median_age  \\\n",
       "0   count                20640              20640               20640   \n",
       "1    mean  -119.56970445736148   35.6318614341087  28.639486434108527   \n",
       "2  stddev    2.003531723502584  2.135952397457101   12.58555761211163   \n",
       "3     min              -124.35              32.54                 1.0   \n",
       "4     max              -114.31              41.95                52.0   \n",
       "\n",
       "          total_rooms      total_bedrooms          population  \\\n",
       "0               20640               20433               20640   \n",
       "1  2635.7630813953488   537.8705525375618  1425.4767441860465   \n",
       "2  2181.6152515827944  421.38507007403115    1132.46212176534   \n",
       "3                 2.0                 1.0                 3.0   \n",
       "4             39320.0              6445.0             35682.0   \n",
       "\n",
       "          households       median_income  median_house_value ocean_proximity  \n",
       "0              20640               20640               20640           20640  \n",
       "1  499.5396802325581  3.8706710029070246  206855.81690891474            None  \n",
       "2  382.3297528316098   1.899821717945263  115395.61587441359            None  \n",
       "3                1.0              0.4999             14999.0       <1H OCEAN  \n",
       "4             6082.0             15.0001            500001.0      NEAR OCEAN  "
      ]
     },
     "execution_count": 174,
     "metadata": {},
     "output_type": "execute_result"
    }
   ],
   "source": [
    "# вывод базовой статистики\n",
    "df_housing.describe().toPandas()"
   ]
  },
  {
   "cell_type": "code",
   "execution_count": 175,
   "id": "99013d1c",
   "metadata": {},
   "outputs": [
    {
     "name": "stdout",
     "output_type": "stream",
     "text": [
      "[[-118.49], [34.26], [29.0], [2127.0], [435.0], [1166.0], [409.0], [3.5347], [179700.0]]\n"
     ]
    }
   ],
   "source": [
    "num_columns = [c for c in df_housing.columns if c != 'ocean_proximity']\n",
    "\n",
    "quantile = df_housing.approxQuantile(num_columns, [0.5], 0)\n",
    "print(quantile)"
   ]
  },
  {
   "cell_type": "code",
   "execution_count": 176,
   "id": "795f7c8f",
   "metadata": {},
   "outputs": [
    {
     "data": {
      "text/html": [
       "<div>\n",
       "<style scoped>\n",
       "    .dataframe tbody tr th:only-of-type {\n",
       "        vertical-align: middle;\n",
       "    }\n",
       "\n",
       "    .dataframe tbody tr th {\n",
       "        vertical-align: top;\n",
       "    }\n",
       "\n",
       "    .dataframe thead th {\n",
       "        text-align: right;\n",
       "    }\n",
       "</style>\n",
       "<table border=\"1\" class=\"dataframe\">\n",
       "  <thead>\n",
       "    <tr style=\"text-align: right;\">\n",
       "      <th></th>\n",
       "      <th>count</th>\n",
       "      <th>mean</th>\n",
       "      <th>stddev</th>\n",
       "      <th>min</th>\n",
       "      <th>quantile_50</th>\n",
       "      <th>max</th>\n",
       "    </tr>\n",
       "  </thead>\n",
       "  <tbody>\n",
       "    <tr>\n",
       "      <th>longitude</th>\n",
       "      <td>20640</td>\n",
       "      <td>-119.56970445736148</td>\n",
       "      <td>2.003531723502584</td>\n",
       "      <td>-124.35</td>\n",
       "      <td>-118.4900</td>\n",
       "      <td>-114.31</td>\n",
       "    </tr>\n",
       "    <tr>\n",
       "      <th>latitude</th>\n",
       "      <td>20640</td>\n",
       "      <td>35.6318614341087</td>\n",
       "      <td>2.135952397457101</td>\n",
       "      <td>32.54</td>\n",
       "      <td>34.2600</td>\n",
       "      <td>41.95</td>\n",
       "    </tr>\n",
       "    <tr>\n",
       "      <th>housing_median_age</th>\n",
       "      <td>20640</td>\n",
       "      <td>28.639486434108527</td>\n",
       "      <td>12.58555761211163</td>\n",
       "      <td>1.0</td>\n",
       "      <td>29.0000</td>\n",
       "      <td>52.0</td>\n",
       "    </tr>\n",
       "    <tr>\n",
       "      <th>total_rooms</th>\n",
       "      <td>20640</td>\n",
       "      <td>2635.7630813953488</td>\n",
       "      <td>2181.6152515827944</td>\n",
       "      <td>2.0</td>\n",
       "      <td>2127.0000</td>\n",
       "      <td>39320.0</td>\n",
       "    </tr>\n",
       "    <tr>\n",
       "      <th>total_bedrooms</th>\n",
       "      <td>20433</td>\n",
       "      <td>537.8705525375618</td>\n",
       "      <td>421.38507007403115</td>\n",
       "      <td>1.0</td>\n",
       "      <td>435.0000</td>\n",
       "      <td>6445.0</td>\n",
       "    </tr>\n",
       "    <tr>\n",
       "      <th>population</th>\n",
       "      <td>20640</td>\n",
       "      <td>1425.4767441860465</td>\n",
       "      <td>1132.46212176534</td>\n",
       "      <td>3.0</td>\n",
       "      <td>1166.0000</td>\n",
       "      <td>35682.0</td>\n",
       "    </tr>\n",
       "    <tr>\n",
       "      <th>households</th>\n",
       "      <td>20640</td>\n",
       "      <td>499.5396802325581</td>\n",
       "      <td>382.3297528316098</td>\n",
       "      <td>1.0</td>\n",
       "      <td>409.0000</td>\n",
       "      <td>6082.0</td>\n",
       "    </tr>\n",
       "    <tr>\n",
       "      <th>median_income</th>\n",
       "      <td>20640</td>\n",
       "      <td>3.8706710029070246</td>\n",
       "      <td>1.899821717945263</td>\n",
       "      <td>0.4999</td>\n",
       "      <td>3.5347</td>\n",
       "      <td>15.0001</td>\n",
       "    </tr>\n",
       "    <tr>\n",
       "      <th>median_house_value</th>\n",
       "      <td>20640</td>\n",
       "      <td>206855.81690891474</td>\n",
       "      <td>115395.61587441359</td>\n",
       "      <td>14999.0</td>\n",
       "      <td>179700.0000</td>\n",
       "      <td>500001.0</td>\n",
       "    </tr>\n",
       "  </tbody>\n",
       "</table>\n",
       "</div>"
      ],
      "text/plain": [
       "                    count                 mean              stddev      min  \\\n",
       "longitude           20640  -119.56970445736148   2.003531723502584  -124.35   \n",
       "latitude            20640     35.6318614341087   2.135952397457101    32.54   \n",
       "housing_median_age  20640   28.639486434108527   12.58555761211163      1.0   \n",
       "total_rooms         20640   2635.7630813953488  2181.6152515827944      2.0   \n",
       "total_bedrooms      20433    537.8705525375618  421.38507007403115      1.0   \n",
       "population          20640   1425.4767441860465    1132.46212176534      3.0   \n",
       "households          20640    499.5396802325581   382.3297528316098      1.0   \n",
       "median_income       20640   3.8706710029070246   1.899821717945263   0.4999   \n",
       "median_house_value  20640   206855.81690891474  115395.61587441359  14999.0   \n",
       "\n",
       "                    quantile_50       max  \n",
       "longitude             -118.4900   -114.31  \n",
       "latitude                34.2600     41.95  \n",
       "housing_median_age      29.0000      52.0  \n",
       "total_rooms           2127.0000   39320.0  \n",
       "total_bedrooms         435.0000    6445.0  \n",
       "population            1166.0000   35682.0  \n",
       "households             409.0000    6082.0  \n",
       "median_income            3.5347   15.0001  \n",
       "median_house_value  179700.0000  500001.0  "
      ]
     },
     "execution_count": 176,
     "metadata": {},
     "output_type": "execute_result"
    }
   ],
   "source": [
    "df_quantile = pd.DataFrame(quantile, columns= ['quantile_50'])\n",
    "df_quantile.index = num_columns\n",
    "\n",
    "df_housing_describe = df_housing.select(*num_columns).describe().toPandas().set_index('summary').T.join(df_quantile)\n",
    "columns = ['count', 'mean', 'stddev','min', 'quantile_50', 'max']\n",
    "\n",
    "df_housing_describe[columns]"
   ]
  },
  {
   "cell_type": "markdown",
   "id": "d99dd590",
   "metadata": {},
   "source": [
    "Изучив данные, можно сделать вывод, что в столбце total_bedrooms имеются пропуски, однако их количество не более 1 %. К тому же, количество спален напрямую зависит от количества комнат, спален примерно в 5 раз меньше, чем комнат. Однако мы оставим замену пропусков средним значением."
   ]
  },
  {
   "cell_type": "code",
   "execution_count": 177,
   "id": "e945de00",
   "metadata": {},
   "outputs": [
    {
     "data": {
      "text/plain": [
       "0.9201961721166215"
      ]
     },
     "execution_count": 177,
     "metadata": {},
     "output_type": "execute_result"
    }
   ],
   "source": [
    "# Проверим корреляцию признаков\n",
    "df_housing.corr('total_rooms', 'total_bedrooms')"
   ]
  },
  {
   "cell_type": "code",
   "execution_count": 178,
   "id": "9c7d92f3",
   "metadata": {
    "scrolled": true
   },
   "outputs": [],
   "source": [
    "# Заполним пропуски средним значением\n",
    "df_housing = df_housing.na.fill(df_housing.select(F.mean(df_housing['total_bedrooms'])).collect()[0][0])"
   ]
  },
  {
   "cell_type": "code",
   "execution_count": 179,
   "id": "c6657bd9",
   "metadata": {},
   "outputs": [
    {
     "data": {
      "text/html": [
       "<div>\n",
       "<style scoped>\n",
       "    .dataframe tbody tr th:only-of-type {\n",
       "        vertical-align: middle;\n",
       "    }\n",
       "\n",
       "    .dataframe tbody tr th {\n",
       "        vertical-align: top;\n",
       "    }\n",
       "\n",
       "    .dataframe thead th {\n",
       "        text-align: right;\n",
       "    }\n",
       "</style>\n",
       "<table border=\"1\" class=\"dataframe\">\n",
       "  <thead>\n",
       "    <tr style=\"text-align: right;\">\n",
       "      <th></th>\n",
       "      <th>summary</th>\n",
       "      <th>longitude</th>\n",
       "      <th>latitude</th>\n",
       "      <th>housing_median_age</th>\n",
       "      <th>total_rooms</th>\n",
       "      <th>total_bedrooms</th>\n",
       "      <th>population</th>\n",
       "      <th>households</th>\n",
       "      <th>median_income</th>\n",
       "      <th>median_house_value</th>\n",
       "      <th>ocean_proximity</th>\n",
       "    </tr>\n",
       "  </thead>\n",
       "  <tbody>\n",
       "    <tr>\n",
       "      <th>0</th>\n",
       "      <td>count</td>\n",
       "      <td>20640</td>\n",
       "      <td>20640</td>\n",
       "      <td>20640</td>\n",
       "      <td>20640</td>\n",
       "      <td>20640</td>\n",
       "      <td>20640</td>\n",
       "      <td>20640</td>\n",
       "      <td>20640</td>\n",
       "      <td>20640</td>\n",
       "      <td>20640</td>\n",
       "    </tr>\n",
       "    <tr>\n",
       "      <th>1</th>\n",
       "      <td>mean</td>\n",
       "      <td>-119.56970445736148</td>\n",
       "      <td>35.6318614341087</td>\n",
       "      <td>28.639486434108527</td>\n",
       "      <td>2635.7630813953488</td>\n",
       "      <td>537.8705525375639</td>\n",
       "      <td>1425.4767441860465</td>\n",
       "      <td>499.5396802325581</td>\n",
       "      <td>3.8706710029070246</td>\n",
       "      <td>206855.81690891474</td>\n",
       "      <td>None</td>\n",
       "    </tr>\n",
       "    <tr>\n",
       "      <th>2</th>\n",
       "      <td>stddev</td>\n",
       "      <td>2.003531723502584</td>\n",
       "      <td>2.135952397457101</td>\n",
       "      <td>12.58555761211163</td>\n",
       "      <td>2181.6152515827944</td>\n",
       "      <td>419.26659232552385</td>\n",
       "      <td>1132.46212176534</td>\n",
       "      <td>382.3297528316098</td>\n",
       "      <td>1.899821717945263</td>\n",
       "      <td>115395.61587441359</td>\n",
       "      <td>None</td>\n",
       "    </tr>\n",
       "    <tr>\n",
       "      <th>3</th>\n",
       "      <td>min</td>\n",
       "      <td>-124.35</td>\n",
       "      <td>32.54</td>\n",
       "      <td>1.0</td>\n",
       "      <td>2.0</td>\n",
       "      <td>1.0</td>\n",
       "      <td>3.0</td>\n",
       "      <td>1.0</td>\n",
       "      <td>0.4999</td>\n",
       "      <td>14999.0</td>\n",
       "      <td>&lt;1H OCEAN</td>\n",
       "    </tr>\n",
       "    <tr>\n",
       "      <th>4</th>\n",
       "      <td>max</td>\n",
       "      <td>-114.31</td>\n",
       "      <td>41.95</td>\n",
       "      <td>52.0</td>\n",
       "      <td>39320.0</td>\n",
       "      <td>6445.0</td>\n",
       "      <td>35682.0</td>\n",
       "      <td>6082.0</td>\n",
       "      <td>15.0001</td>\n",
       "      <td>500001.0</td>\n",
       "      <td>NEAR OCEAN</td>\n",
       "    </tr>\n",
       "  </tbody>\n",
       "</table>\n",
       "</div>"
      ],
      "text/plain": [
       "  summary            longitude           latitude  housing_median_age  \\\n",
       "0   count                20640              20640               20640   \n",
       "1    mean  -119.56970445736148   35.6318614341087  28.639486434108527   \n",
       "2  stddev    2.003531723502584  2.135952397457101   12.58555761211163   \n",
       "3     min              -124.35              32.54                 1.0   \n",
       "4     max              -114.31              41.95                52.0   \n",
       "\n",
       "          total_rooms      total_bedrooms          population  \\\n",
       "0               20640               20640               20640   \n",
       "1  2635.7630813953488   537.8705525375639  1425.4767441860465   \n",
       "2  2181.6152515827944  419.26659232552385    1132.46212176534   \n",
       "3                 2.0                 1.0                 3.0   \n",
       "4             39320.0              6445.0             35682.0   \n",
       "\n",
       "          households       median_income  median_house_value ocean_proximity  \n",
       "0              20640               20640               20640           20640  \n",
       "1  499.5396802325581  3.8706710029070246  206855.81690891474            None  \n",
       "2  382.3297528316098   1.899821717945263  115395.61587441359            None  \n",
       "3                1.0              0.4999             14999.0       <1H OCEAN  \n",
       "4             6082.0             15.0001            500001.0      NEAR OCEAN  "
      ]
     },
     "execution_count": 179,
     "metadata": {},
     "output_type": "execute_result"
    }
   ],
   "source": [
    "df_housing.describe().toPandas()"
   ]
  },
  {
   "cell_type": "markdown",
   "id": "bb592d31",
   "metadata": {},
   "source": [
    "## Подготовка признаков"
   ]
  },
  {
   "cell_type": "markdown",
   "id": "983b622c",
   "metadata": {},
   "source": [
    "В датафрейме имеются данные, содержащие следующие признаки:\n",
    "- текстовые признаки - ocean_proximity;\n",
    "- числовые признаки - 'longitude', 'latitude', 'housing_median_age', 'total_rooms', 'total_bedrooms', 'population', 'households', 'median_income';\n",
    "- целевой признак.\n",
    "\n",
    "Выделим эти признаки."
   ]
  },
  {
   "cell_type": "code",
   "execution_count": 180,
   "id": "741e1766",
   "metadata": {},
   "outputs": [],
   "source": [
    "categorical_col = 'ocean_proximity'\n",
    "numerical_cols = ['longitude', 'latitude', 'housing_median_age', 'total_rooms', 'total_bedrooms', 'population', 'households', 'median_income']\n",
    "target = 'median_house_value'"
   ]
  },
  {
   "cell_type": "markdown",
   "id": "2b355a25",
   "metadata": {},
   "source": [
    "### Трансформация категорийных признаков"
   ]
  },
  {
   "cell_type": "markdown",
   "id": "892e8c42",
   "metadata": {},
   "source": [
    "Трансформируем категорийные признаки с помощью трансформера StringIndexer, который переведет текстовую категорию в числовую."
   ]
  },
  {
   "cell_type": "code",
   "execution_count": 181,
   "id": "5f42c46c",
   "metadata": {
    "scrolled": true
   },
   "outputs": [],
   "source": [
    "indexer = StringIndexer(inputCol=categorical_col, outputCol=categorical_col+'_idx')\n",
    "df_housing = indexer.fit(df_housing).transform(df_housing)"
   ]
  },
  {
   "cell_type": "code",
   "execution_count": 182,
   "id": "b8f11513",
   "metadata": {
    "scrolled": false
   },
   "outputs": [
    {
     "name": "stdout",
     "output_type": "stream",
     "text": [
      "+---------------+-------------------+\n",
      "|ocean_proximity|ocean_proximity_idx|\n",
      "+---------------+-------------------+\n",
      "|       NEAR BAY|                3.0|\n",
      "|       NEAR BAY|                3.0|\n",
      "|       NEAR BAY|                3.0|\n",
      "+---------------+-------------------+\n",
      "only showing top 3 rows\n",
      "\n"
     ]
    }
   ],
   "source": [
    "cols = [c for c in df_housing.columns if c.startswith(categorical_col)]\n",
    "df_housing.select(cols).show(3)"
   ]
  },
  {
   "cell_type": "markdown",
   "id": "713c6c82",
   "metadata": {},
   "source": [
    "Применим OHE-кодирование для категорий:"
   ]
  },
  {
   "cell_type": "code",
   "execution_count": 183,
   "id": "184dfc87",
   "metadata": {
    "scrolled": false
   },
   "outputs": [
    {
     "name": "stdout",
     "output_type": "stream",
     "text": [
      "+---------------+-------------------+-------------------+\n",
      "|ocean_proximity|ocean_proximity_idx|ocean_proximity_ohe|\n",
      "+---------------+-------------------+-------------------+\n",
      "|       NEAR BAY|                3.0|      (4,[3],[1.0])|\n",
      "|       NEAR BAY|                3.0|      (4,[3],[1.0])|\n",
      "|       NEAR BAY|                3.0|      (4,[3],[1.0])|\n",
      "+---------------+-------------------+-------------------+\n",
      "only showing top 3 rows\n",
      "\n"
     ]
    }
   ],
   "source": [
    "encoder = OneHotEncoder(inputCol='ocean_proximity_idx', outputCol=categorical_col+'_ohe')\n",
    "df_housing = encoder.fit(df_housing).transform(df_housing)\n",
    "cols = [c for c in df_housing.columns if c.startswith(categorical_col)]\n",
    "df_housing.select(cols).show(3)"
   ]
  },
  {
   "cell_type": "markdown",
   "id": "258406e2",
   "metadata": {},
   "source": [
    "Объединим признаки в один вектор, с которым работает ML-алгоритм:"
   ]
  },
  {
   "cell_type": "code",
   "execution_count": 184,
   "id": "6a15dfc0",
   "metadata": {},
   "outputs": [],
   "source": [
    "categorical_assembler = VectorAssembler(inputCols=['ocean_proximity_ohe'], outputCol='categorical_features')\n",
    "df_housing = categorical_assembler.transform(df_housing)"
   ]
  },
  {
   "cell_type": "code",
   "execution_count": 185,
   "id": "e9c522ae",
   "metadata": {},
   "outputs": [
    {
     "data": {
      "text/html": [
       "<div>\n",
       "<style scoped>\n",
       "    .dataframe tbody tr th:only-of-type {\n",
       "        vertical-align: middle;\n",
       "    }\n",
       "\n",
       "    .dataframe tbody tr th {\n",
       "        vertical-align: top;\n",
       "    }\n",
       "\n",
       "    .dataframe thead th {\n",
       "        text-align: right;\n",
       "    }\n",
       "</style>\n",
       "<table border=\"1\" class=\"dataframe\">\n",
       "  <thead>\n",
       "    <tr style=\"text-align: right;\">\n",
       "      <th></th>\n",
       "      <th>longitude</th>\n",
       "      <th>latitude</th>\n",
       "      <th>housing_median_age</th>\n",
       "      <th>total_rooms</th>\n",
       "      <th>total_bedrooms</th>\n",
       "      <th>population</th>\n",
       "      <th>households</th>\n",
       "      <th>median_income</th>\n",
       "      <th>median_house_value</th>\n",
       "      <th>ocean_proximity</th>\n",
       "      <th>ocean_proximity_idx</th>\n",
       "      <th>ocean_proximity_ohe</th>\n",
       "      <th>categorical_features</th>\n",
       "    </tr>\n",
       "  </thead>\n",
       "  <tbody>\n",
       "    <tr>\n",
       "      <th>0</th>\n",
       "      <td>-122.23</td>\n",
       "      <td>37.88</td>\n",
       "      <td>41.0</td>\n",
       "      <td>880.0</td>\n",
       "      <td>129.0</td>\n",
       "      <td>322.0</td>\n",
       "      <td>126.0</td>\n",
       "      <td>8.3252</td>\n",
       "      <td>452600.0</td>\n",
       "      <td>NEAR BAY</td>\n",
       "      <td>3.0</td>\n",
       "      <td>(0.0, 0.0, 0.0, 1.0)</td>\n",
       "      <td>(0.0, 0.0, 0.0, 1.0)</td>\n",
       "    </tr>\n",
       "    <tr>\n",
       "      <th>1</th>\n",
       "      <td>-122.22</td>\n",
       "      <td>37.86</td>\n",
       "      <td>21.0</td>\n",
       "      <td>7099.0</td>\n",
       "      <td>1106.0</td>\n",
       "      <td>2401.0</td>\n",
       "      <td>1138.0</td>\n",
       "      <td>8.3014</td>\n",
       "      <td>358500.0</td>\n",
       "      <td>NEAR BAY</td>\n",
       "      <td>3.0</td>\n",
       "      <td>(0.0, 0.0, 0.0, 1.0)</td>\n",
       "      <td>(0.0, 0.0, 0.0, 1.0)</td>\n",
       "    </tr>\n",
       "    <tr>\n",
       "      <th>2</th>\n",
       "      <td>-122.24</td>\n",
       "      <td>37.85</td>\n",
       "      <td>52.0</td>\n",
       "      <td>1467.0</td>\n",
       "      <td>190.0</td>\n",
       "      <td>496.0</td>\n",
       "      <td>177.0</td>\n",
       "      <td>7.2574</td>\n",
       "      <td>352100.0</td>\n",
       "      <td>NEAR BAY</td>\n",
       "      <td>3.0</td>\n",
       "      <td>(0.0, 0.0, 0.0, 1.0)</td>\n",
       "      <td>(0.0, 0.0, 0.0, 1.0)</td>\n",
       "    </tr>\n",
       "  </tbody>\n",
       "</table>\n",
       "</div>"
      ],
      "text/plain": [
       "   longitude  latitude  housing_median_age  total_rooms  total_bedrooms  \\\n",
       "0    -122.23     37.88                41.0        880.0           129.0   \n",
       "1    -122.22     37.86                21.0       7099.0          1106.0   \n",
       "2    -122.24     37.85                52.0       1467.0           190.0   \n",
       "\n",
       "   population  households  median_income  median_house_value ocean_proximity  \\\n",
       "0       322.0       126.0         8.3252            452600.0        NEAR BAY   \n",
       "1      2401.0      1138.0         8.3014            358500.0        NEAR BAY   \n",
       "2       496.0       177.0         7.2574            352100.0        NEAR BAY   \n",
       "\n",
       "   ocean_proximity_idx   ocean_proximity_ohe  categorical_features  \n",
       "0                  3.0  (0.0, 0.0, 0.0, 1.0)  (0.0, 0.0, 0.0, 1.0)  \n",
       "1                  3.0  (0.0, 0.0, 0.0, 1.0)  (0.0, 0.0, 0.0, 1.0)  \n",
       "2                  3.0  (0.0, 0.0, 0.0, 1.0)  (0.0, 0.0, 0.0, 1.0)  "
      ]
     },
     "execution_count": 185,
     "metadata": {},
     "output_type": "execute_result"
    }
   ],
   "source": [
    "pd.DataFrame(df_housing.take(3),\n",
    "             columns=df_housing.columns)"
   ]
  },
  {
   "cell_type": "markdown",
   "id": "fbbbd63e",
   "metadata": {},
   "source": [
    "### Трансформачия числовых признаков"
   ]
  },
  {
   "cell_type": "markdown",
   "id": "32e1c188",
   "metadata": {},
   "source": [
    "Проведем шкалирование числовых значений, что бы сильные выбросы не смещали предсказание модели."
   ]
  },
  {
   "cell_type": "code",
   "execution_count": 186,
   "id": "1b711be2",
   "metadata": {},
   "outputs": [],
   "source": [
    "numerical_assembler = VectorAssembler(inputCols=numerical_cols, outputCol='numerical_features')\n",
    "df_housing = numerical_assembler.transform(df_housing)"
   ]
  },
  {
   "cell_type": "code",
   "execution_count": 187,
   "id": "9ec3fcb0",
   "metadata": {},
   "outputs": [],
   "source": [
    "standardScaler = StandardScaler(inputCol='numerical_features', outputCol='numerical_features_scaled')\n",
    "df_housing = standardScaler.fit(df_housing).transform(df_housing)"
   ]
  },
  {
   "cell_type": "code",
   "execution_count": 188,
   "id": "ce397455",
   "metadata": {},
   "outputs": [
    {
     "data": {
      "text/plain": [
       "[('longitude', 'double'),\n",
       " ('latitude', 'double'),\n",
       " ('housing_median_age', 'double'),\n",
       " ('total_rooms', 'double'),\n",
       " ('total_bedrooms', 'double'),\n",
       " ('population', 'double'),\n",
       " ('households', 'double'),\n",
       " ('median_income', 'double'),\n",
       " ('median_house_value', 'double'),\n",
       " ('ocean_proximity', 'string'),\n",
       " ('ocean_proximity_idx', 'double'),\n",
       " ('ocean_proximity_ohe', 'vector'),\n",
       " ('categorical_features', 'vector'),\n",
       " ('numerical_features', 'vector'),\n",
       " ('numerical_features_scaled', 'vector')]"
      ]
     },
     "execution_count": 188,
     "metadata": {},
     "output_type": "execute_result"
    }
   ],
   "source": [
    "df_housing.dtypes"
   ]
  },
  {
   "cell_type": "markdown",
   "id": "c3fd6a6e",
   "metadata": {},
   "source": [
    "### Объединение категорийных и числовых признаков"
   ]
  },
  {
   "cell_type": "markdown",
   "id": "1cbda7c5",
   "metadata": {},
   "source": [
    "Соберем трансформированные категорийные и числовые признаки с помощью VectorAssembler"
   ]
  },
  {
   "cell_type": "code",
   "execution_count": 189,
   "id": "662287bb",
   "metadata": {},
   "outputs": [
    {
     "name": "stdout",
     "output_type": "stream",
     "text": [
      "+--------------------+\n",
      "|            features|\n",
      "+--------------------+\n",
      "|[0.0,0.0,0.0,1.0,...|\n",
      "|[0.0,0.0,0.0,1.0,...|\n",
      "|[0.0,0.0,0.0,1.0,...|\n",
      "+--------------------+\n",
      "only showing top 3 rows\n",
      "\n"
     ]
    }
   ],
   "source": [
    "all_features = ['categorical_features', 'numerical_features_scaled']\n",
    "final_assembler = VectorAssembler(inputCols=all_features, outputCol='features')\n",
    "df_housing = final_assembler.transform(df_housing)\n",
    "df_housing.select('features').show(3)"
   ]
  },
  {
   "cell_type": "markdown",
   "id": "45b241ec",
   "metadata": {},
   "source": [
    "### Разделение на выборки"
   ]
  },
  {
   "cell_type": "markdown",
   "id": "9f1f471a",
   "metadata": {},
   "source": [
    "Разделим выборку на 2 части - обучающую (80%) и тестовую (20%)."
   ]
  },
  {
   "cell_type": "code",
   "execution_count": 190,
   "id": "98cc81e7",
   "metadata": {},
   "outputs": [
    {
     "name": "stdout",
     "output_type": "stream",
     "text": [
      "16418 4222\n"
     ]
    }
   ],
   "source": [
    "train_data, test_data = df_housing.randomSplit([.8, .2], seed = RANDOM_SEED)\n",
    "print(train_data.count(), test_data.count())"
   ]
  },
  {
   "cell_type": "markdown",
   "id": "e0fe66ed",
   "metadata": {},
   "source": [
    "Подготовили признаки для последующего обучения модели, трансформирорвали категорийные и числовые признаки с помощью трансформера StringIndexer, дополнительно провели OHE-кодирование, провели шкалирование значений StandardScaler. Далее собрали трансформированные категорийные и числовые признаки с помощью VectorAssembler. Разделили выборку на 2 части - обучающую (80%) и тестовую (20%)."
   ]
  },
  {
   "cell_type": "markdown",
   "id": "9f0a82f3",
   "metadata": {
    "id": "9f0a82f3"
   },
   "source": [
    "## Обучение моделей"
   ]
  },
  {
   "cell_type": "markdown",
   "id": "d3906a91",
   "metadata": {
    "id": "bddb08c4"
   },
   "source": [
    "Построим две модели линейной регрессии на разных наборах данных:\n",
    "- используя все данные из файла;\n",
    "- используя только числовые переменные, исключив категориальные.\n",
    "\n",
    "Для построения модели будем использовать оценщик LinearRegression из библиотеки MLlib, после чнго сравним результаты работы линейной регрессии на двух наборах данных по метрикам RMSE, MAE и R2."
   ]
  },
  {
   "cell_type": "markdown",
   "id": "8e78ec8e",
   "metadata": {},
   "source": [
    "Для обучения будем использовать вектор features - будем использовать все данные, numerical_features_scaled - только числовые переменные. Все полученные данные сохраним в список"
   ]
  },
  {
   "cell_type": "code",
   "execution_count": 191,
   "id": "5ccb6330",
   "metadata": {},
   "outputs": [
    {
     "name": "stderr",
     "output_type": "stream",
     "text": [
      "22/06/14 18:44:53 WARN Instrumentation: [52965055] regParam is zero, which might cause numerical instability and overfitting.\n",
      "22/06/14 18:44:54 WARN Instrumentation: [52965055] Cholesky solver failed due to singular covariance matrix. Retrying with Quasi-Newton solver.\n",
      "22/06/14 18:44:55 WARN Instrumentation: [f282911d] regParam is zero, which might cause numerical instability and overfitting.\n"
     ]
    },
    {
     "name": "stdout",
     "output_type": "stream",
     "text": [
      "               features_name          RMSE           MAE        R2\n",
      "0                   features  68480.413421  49849.341084  0.653622\n",
      "1  numerical_features_scaled  69207.629961  50848.475110  0.646226\n"
     ]
    }
   ],
   "source": [
    "# Создаем список, куда будем вносить результаты модели в зависимости от набора данных\n",
    "data_table = [['features_name', 'RMSE', 'MAE', 'R2']]\n",
    "\n",
    "# Создадим цикл для используемых признаков\n",
    "for col in ['features', 'numerical_features_scaled']:\n",
    "    \n",
    "    # обучим модель на обучающей выборке\n",
    "    lr = LinearRegression(featuresCol=col, labelCol=target)\n",
    "    model = lr.fit(train_data)\n",
    "    \n",
    "    # предскажим на тестовой выборке\n",
    "    predictions = model.transform(test_data)\n",
    "    \n",
    "    # выделим предсказания и ответы в отдельную переменную\n",
    "    results = predictions.select(['prediction', target])\n",
    "\n",
    "    rmse = RegressionEvaluator(labelCol=target, metricName='rmse').evaluate(predictions)\n",
    "    mae = RegressionEvaluator(labelCol=target, metricName='mae').evaluate(predictions)\n",
    "    r2 = RegressionEvaluator(labelCol=target, metricName='r2').evaluate(predictions)\n",
    "    \n",
    "    # добавим результаты в список для сравнения\n",
    "    data_table.append([col, rmse, mae, r2])\n",
    "print(pd.DataFrame(data_table[1:], columns=data_table[0]))  \n"
   ]
  },
  {
   "cell_type": "markdown",
   "id": "757fd103",
   "metadata": {
    "id": "757fd103"
   },
   "source": [
    "## Анализ результатов"
   ]
  },
  {
   "cell_type": "code",
   "execution_count": 192,
   "id": "1a3d9f5e",
   "metadata": {},
   "outputs": [
    {
     "data": {
      "text/html": [
       "<div>\n",
       "<style scoped>\n",
       "    .dataframe tbody tr th:only-of-type {\n",
       "        vertical-align: middle;\n",
       "    }\n",
       "\n",
       "    .dataframe tbody tr th {\n",
       "        vertical-align: top;\n",
       "    }\n",
       "\n",
       "    .dataframe thead th {\n",
       "        text-align: right;\n",
       "    }\n",
       "</style>\n",
       "<table border=\"1\" class=\"dataframe\">\n",
       "  <thead>\n",
       "    <tr style=\"text-align: right;\">\n",
       "      <th></th>\n",
       "      <th>features_name</th>\n",
       "      <th>RMSE</th>\n",
       "      <th>MAE</th>\n",
       "      <th>R2</th>\n",
       "    </tr>\n",
       "  </thead>\n",
       "  <tbody>\n",
       "    <tr>\n",
       "      <th>0</th>\n",
       "      <td>features</td>\n",
       "      <td>68480.413421</td>\n",
       "      <td>49849.341084</td>\n",
       "      <td>0.653622</td>\n",
       "    </tr>\n",
       "    <tr>\n",
       "      <th>1</th>\n",
       "      <td>numerical_features_scaled</td>\n",
       "      <td>69207.629961</td>\n",
       "      <td>50848.475110</td>\n",
       "      <td>0.646226</td>\n",
       "    </tr>\n",
       "  </tbody>\n",
       "</table>\n",
       "</div>"
      ],
      "text/plain": [
       "               features_name          RMSE           MAE        R2\n",
       "0                   features  68480.413421  49849.341084  0.653622\n",
       "1  numerical_features_scaled  69207.629961  50848.475110  0.646226"
      ]
     },
     "execution_count": 192,
     "metadata": {},
     "output_type": "execute_result"
    }
   ],
   "source": [
    "pd.DataFrame(data_table[1:], columns=data_table[0])"
   ]
  },
  {
   "cell_type": "markdown",
   "id": "b9d3c2f1",
   "metadata": {},
   "source": [
    "Обучив модель линейной регрессии на двух выборках - используя все данные из файла и используя только числовые переменные, исключив категориальные, можно сделать вывод о том, что модель линейной регрессии на выборке со всеми файлами предсказывает точнее по метрикам RMSE, MAE и R2."
   ]
  },
  {
   "cell_type": "code",
   "execution_count": 193,
   "id": "efcec2b6",
   "metadata": {},
   "outputs": [],
   "source": [
    "spark.stop() "
   ]
  }
 ],
 "metadata": {
  "ExecuteTimeLog": [
   {
    "duration": 27127,
    "start_time": "2022-06-13T10:41:19.418Z"
   },
   {
    "duration": 13304,
    "start_time": "2022-06-13T10:41:56.025Z"
   },
   {
    "duration": 485,
    "start_time": "2022-06-13T10:42:17.041Z"
   },
   {
    "duration": 328,
    "start_time": "2022-06-13T10:42:42.073Z"
   },
   {
    "duration": 1598,
    "start_time": "2022-06-13T10:42:50.904Z"
   },
   {
    "duration": 1588,
    "start_time": "2022-06-13T10:43:18.918Z"
   },
   {
    "duration": 6605,
    "start_time": "2022-06-13T10:43:22.921Z"
   },
   {
    "duration": 730,
    "start_time": "2022-06-13T10:54:19.105Z"
   },
   {
    "duration": 709,
    "start_time": "2022-06-13T10:54:34.728Z"
   },
   {
    "duration": 6094,
    "start_time": "2022-06-13T10:56:05.420Z"
   },
   {
    "duration": 23,
    "start_time": "2022-06-13T10:57:20.129Z"
   },
   {
    "duration": 771,
    "start_time": "2022-06-13T10:57:31.951Z"
   },
   {
    "duration": 6,
    "start_time": "2022-06-13T10:57:48.160Z"
   },
   {
    "duration": 768,
    "start_time": "2022-06-13T10:57:49.239Z"
   },
   {
    "duration": 203,
    "start_time": "2022-06-13T10:57:50.968Z"
   },
   {
    "duration": 619,
    "start_time": "2022-06-13T10:57:52.917Z"
   },
   {
    "duration": 368,
    "start_time": "2022-06-13T10:58:03.576Z"
   },
   {
    "duration": 488,
    "start_time": "2022-06-13T10:58:11.469Z"
   },
   {
    "duration": 32,
    "start_time": "2022-06-13T10:58:29.591Z"
   },
   {
    "duration": 469,
    "start_time": "2022-06-13T10:58:30.920Z"
   },
   {
    "duration": 11,
    "start_time": "2022-06-13T11:03:56.809Z"
   },
   {
    "duration": 687,
    "start_time": "2022-06-13T11:03:57.626Z"
   },
   {
    "duration": 233,
    "start_time": "2022-06-13T11:03:59.721Z"
   },
   {
    "duration": 490,
    "start_time": "2022-06-13T11:04:03.536Z"
   },
   {
    "duration": 124,
    "start_time": "2022-06-13T11:05:01.221Z"
   },
   {
    "duration": 28,
    "start_time": "2022-06-13T11:09:21.730Z"
   },
   {
    "duration": 22,
    "start_time": "2022-06-13T11:09:43.069Z"
   },
   {
    "duration": 182,
    "start_time": "2022-06-13T11:09:57.563Z"
   },
   {
    "duration": 308,
    "start_time": "2022-06-13T11:10:20.689Z"
   },
   {
    "duration": 85,
    "start_time": "2022-06-13T11:13:18.076Z"
   },
   {
    "duration": 31,
    "start_time": "2022-06-13T11:13:23.855Z"
   },
   {
    "duration": 436,
    "start_time": "2022-06-13T11:13:30.789Z"
   },
   {
    "duration": 83,
    "start_time": "2022-06-13T11:15:15.520Z"
   },
   {
    "duration": 536,
    "start_time": "2022-06-13T11:15:19.324Z"
   },
   {
    "duration": 550,
    "start_time": "2022-06-13T11:15:50.352Z"
   },
   {
    "duration": 918,
    "start_time": "2022-06-13T11:15:52.294Z"
   },
   {
    "duration": 6,
    "start_time": "2022-06-13T11:16:11.616Z"
   },
   {
    "duration": 609,
    "start_time": "2022-06-13T11:16:13.090Z"
   },
   {
    "duration": 119,
    "start_time": "2022-06-13T11:16:14.363Z"
   },
   {
    "duration": 390,
    "start_time": "2022-06-13T11:16:15.721Z"
   },
   {
    "duration": 221,
    "start_time": "2022-06-13T11:16:23.810Z"
   },
   {
    "duration": 259,
    "start_time": "2022-06-13T11:16:34.443Z"
   },
   {
    "duration": 629,
    "start_time": "2022-06-13T11:16:39.985Z"
   },
   {
    "duration": 2753,
    "start_time": "2022-06-13T11:37:15.185Z"
   },
   {
    "duration": 4,
    "start_time": "2022-06-13T11:46:46.294Z"
   },
   {
    "duration": 158,
    "start_time": "2022-06-13T11:52:24.111Z"
   },
   {
    "duration": 1636,
    "start_time": "2022-06-13T11:54:13.890Z"
   },
   {
    "duration": 100,
    "start_time": "2022-06-13T11:55:33.588Z"
   },
   {
    "duration": 52,
    "start_time": "2022-06-13T11:56:32.917Z"
   },
   {
    "duration": 7,
    "start_time": "2022-06-13T11:56:50.990Z"
   },
   {
    "duration": 661,
    "start_time": "2022-06-13T11:56:51.494Z"
   },
   {
    "duration": 143,
    "start_time": "2022-06-13T11:56:52.157Z"
   },
   {
    "duration": 733,
    "start_time": "2022-06-13T11:56:52.304Z"
   },
   {
    "duration": 274,
    "start_time": "2022-06-13T11:56:53.040Z"
   },
   {
    "duration": 440,
    "start_time": "2022-06-13T11:56:53.316Z"
   },
   {
    "duration": 2570,
    "start_time": "2022-06-13T11:56:53.758Z"
   },
   {
    "duration": 3,
    "start_time": "2022-06-13T11:56:58.626Z"
   },
   {
    "duration": 343,
    "start_time": "2022-06-13T11:57:00.090Z"
   },
   {
    "duration": 15,
    "start_time": "2022-06-13T11:57:53.454Z"
   },
   {
    "duration": 11,
    "start_time": "2022-06-13T11:58:10.078Z"
   },
   {
    "duration": 401,
    "start_time": "2022-06-13T11:58:28.318Z"
   },
   {
    "duration": 5,
    "start_time": "2022-06-13T12:00:43.684Z"
   },
   {
    "duration": 607,
    "start_time": "2022-06-13T12:00:44.038Z"
   },
   {
    "duration": 204,
    "start_time": "2022-06-13T12:00:44.648Z"
   },
   {
    "duration": 468,
    "start_time": "2022-06-13T12:00:44.854Z"
   },
   {
    "duration": 207,
    "start_time": "2022-06-13T12:00:45.325Z"
   },
   {
    "duration": 493,
    "start_time": "2022-06-13T12:00:45.534Z"
   },
   {
    "duration": 2299,
    "start_time": "2022-06-13T12:00:46.030Z"
   },
   {
    "duration": 4,
    "start_time": "2022-06-13T12:00:48.331Z"
   },
   {
    "duration": 38,
    "start_time": "2022-06-13T12:00:48.337Z"
   },
   {
    "duration": 0,
    "start_time": "2022-06-13T12:00:48.376Z"
   },
   {
    "duration": 320,
    "start_time": "2022-06-13T12:01:38.123Z"
   },
   {
    "duration": 225,
    "start_time": "2022-06-13T12:02:39.247Z"
   },
   {
    "duration": 8,
    "start_time": "2022-06-13T12:25:35.734Z"
   },
   {
    "duration": 24,
    "start_time": "2022-06-13T12:26:12.925Z"
   },
   {
    "duration": 471,
    "start_time": "2022-06-13T12:26:13.628Z"
   },
   {
    "duration": 336,
    "start_time": "2022-06-13T12:26:14.100Z"
   },
   {
    "duration": 479,
    "start_time": "2022-06-13T12:26:14.438Z"
   },
   {
    "duration": 225,
    "start_time": "2022-06-13T12:26:14.919Z"
   },
   {
    "duration": 482,
    "start_time": "2022-06-13T12:26:15.146Z"
   },
   {
    "duration": 1735,
    "start_time": "2022-06-13T12:26:15.630Z"
   },
   {
    "duration": 9,
    "start_time": "2022-06-13T12:26:17.394Z"
   },
   {
    "duration": 450,
    "start_time": "2022-06-13T12:26:17.406Z"
   },
   {
    "duration": 149,
    "start_time": "2022-06-13T12:26:17.858Z"
   },
   {
    "duration": 135,
    "start_time": "2022-06-13T12:26:20.214Z"
   },
   {
    "duration": 87,
    "start_time": "2022-06-13T12:26:49.604Z"
   },
   {
    "duration": 703,
    "start_time": "2022-06-13T12:28:01.471Z"
   },
   {
    "duration": 18,
    "start_time": "2022-06-13T12:56:28.987Z"
   },
   {
    "duration": 22,
    "start_time": "2022-06-13T12:57:06.889Z"
   },
   {
    "duration": 82,
    "start_time": "2022-06-13T12:57:33.766Z"
   },
   {
    "duration": 533,
    "start_time": "2022-06-13T12:57:43.615Z"
   },
   {
    "duration": 41,
    "start_time": "2022-06-13T13:08:39.620Z"
   },
   {
    "duration": 1424,
    "start_time": "2022-06-13T13:08:40.824Z"
   },
   {
    "duration": 164,
    "start_time": "2022-06-13T13:12:17.985Z"
   },
   {
    "duration": 73,
    "start_time": "2022-06-13T13:12:43.743Z"
   },
   {
    "duration": 105,
    "start_time": "2022-06-13T13:14:38.348Z"
   },
   {
    "duration": 9,
    "start_time": "2022-06-13T13:15:20.159Z"
   },
   {
    "duration": 7,
    "start_time": "2022-06-13T13:15:40.077Z"
   },
   {
    "duration": 1041,
    "start_time": "2022-06-13T13:15:40.307Z"
   },
   {
    "duration": 163,
    "start_time": "2022-06-13T13:15:41.350Z"
   },
   {
    "duration": 912,
    "start_time": "2022-06-13T13:15:41.525Z"
   },
   {
    "duration": 371,
    "start_time": "2022-06-13T13:15:42.444Z"
   },
   {
    "duration": 825,
    "start_time": "2022-06-13T13:15:42.817Z"
   },
   {
    "duration": 2998,
    "start_time": "2022-06-13T13:15:43.644Z"
   },
   {
    "duration": 8,
    "start_time": "2022-06-13T13:15:46.647Z"
   },
   {
    "duration": 622,
    "start_time": "2022-06-13T13:15:46.660Z"
   },
   {
    "duration": 141,
    "start_time": "2022-06-13T13:15:47.288Z"
   },
   {
    "duration": 206,
    "start_time": "2022-06-13T13:15:47.432Z"
   },
   {
    "duration": 30,
    "start_time": "2022-06-13T13:15:47.639Z"
   },
   {
    "duration": 434,
    "start_time": "2022-06-13T13:15:47.671Z"
   },
   {
    "duration": 56,
    "start_time": "2022-06-13T13:15:48.115Z"
   },
   {
    "duration": 942,
    "start_time": "2022-06-13T13:15:50.292Z"
   },
   {
    "duration": 21,
    "start_time": "2022-06-13T13:15:51.830Z"
   },
   {
    "duration": 474,
    "start_time": "2022-06-13T13:17:02.531Z"
   },
   {
    "duration": 4755,
    "start_time": "2022-06-13T13:23:25.176Z"
   },
   {
    "duration": 2572,
    "start_time": "2022-06-13T13:24:54.287Z"
   },
   {
    "duration": 11,
    "start_time": "2022-06-13T13:40:23.260Z"
   },
   {
    "duration": 419970,
    "start_time": "2022-06-13T13:40:34.744Z"
   },
   {
    "duration": 64,
    "start_time": "2022-06-13T13:51:53.446Z"
   },
   {
    "duration": 0,
    "start_time": "2022-06-13T13:53:52.281Z"
   },
   {
    "duration": 0,
    "start_time": "2022-06-13T13:53:52.283Z"
   },
   {
    "duration": 0,
    "start_time": "2022-06-13T13:53:52.284Z"
   },
   {
    "duration": 0,
    "start_time": "2022-06-13T13:53:52.286Z"
   },
   {
    "duration": 0,
    "start_time": "2022-06-13T13:53:52.287Z"
   },
   {
    "duration": 0,
    "start_time": "2022-06-13T13:53:52.288Z"
   },
   {
    "duration": 0,
    "start_time": "2022-06-13T13:53:52.289Z"
   },
   {
    "duration": 0,
    "start_time": "2022-06-13T13:53:52.289Z"
   },
   {
    "duration": 0,
    "start_time": "2022-06-13T13:53:52.294Z"
   },
   {
    "duration": 0,
    "start_time": "2022-06-13T13:53:52.296Z"
   },
   {
    "duration": 0,
    "start_time": "2022-06-13T13:53:52.298Z"
   },
   {
    "duration": 0,
    "start_time": "2022-06-13T13:53:52.299Z"
   },
   {
    "duration": 0,
    "start_time": "2022-06-13T13:53:52.300Z"
   },
   {
    "duration": 0,
    "start_time": "2022-06-13T13:53:52.302Z"
   },
   {
    "duration": 0,
    "start_time": "2022-06-13T13:53:52.303Z"
   },
   {
    "duration": 0,
    "start_time": "2022-06-13T13:53:52.304Z"
   },
   {
    "duration": 0,
    "start_time": "2022-06-13T13:53:52.305Z"
   },
   {
    "duration": 0,
    "start_time": "2022-06-13T13:53:52.305Z"
   },
   {
    "duration": 0,
    "start_time": "2022-06-13T13:53:52.306Z"
   },
   {
    "duration": 8,
    "start_time": "2022-06-13T13:53:57.133Z"
   },
   {
    "duration": 1101,
    "start_time": "2022-06-13T13:53:59.950Z"
   },
   {
    "duration": 269,
    "start_time": "2022-06-13T13:54:02.432Z"
   },
   {
    "duration": 1173,
    "start_time": "2022-06-13T13:54:03.254Z"
   },
   {
    "duration": 482,
    "start_time": "2022-06-13T13:54:04.430Z"
   },
   {
    "duration": 767,
    "start_time": "2022-06-13T13:54:04.914Z"
   },
   {
    "duration": 4148,
    "start_time": "2022-06-13T13:54:05.684Z"
   },
   {
    "duration": 8,
    "start_time": "2022-06-13T13:54:09.835Z"
   },
   {
    "duration": 708,
    "start_time": "2022-06-13T13:54:09.895Z"
   },
   {
    "duration": 296,
    "start_time": "2022-06-13T13:54:10.613Z"
   },
   {
    "duration": 284,
    "start_time": "2022-06-13T13:54:11.690Z"
   },
   {
    "duration": 33,
    "start_time": "2022-06-13T13:54:12.210Z"
   },
   {
    "duration": 221,
    "start_time": "2022-06-13T13:54:12.453Z"
   },
   {
    "duration": 38,
    "start_time": "2022-06-13T13:54:13.064Z"
   },
   {
    "duration": 744,
    "start_time": "2022-06-13T13:54:13.289Z"
   },
   {
    "duration": 138,
    "start_time": "2022-06-13T13:54:14.034Z"
   },
   {
    "duration": 352,
    "start_time": "2022-06-13T13:54:14.911Z"
   },
   {
    "duration": 1808,
    "start_time": "2022-06-13T13:54:15.390Z"
   },
   {
    "duration": 20,
    "start_time": "2022-06-13T13:54:17.200Z"
   },
   {
    "duration": 15341,
    "start_time": "2022-06-13T13:54:56.256Z"
   },
   {
    "duration": 9647,
    "start_time": "2022-06-13T13:55:57.554Z"
   },
   {
    "duration": 7602,
    "start_time": "2022-06-13T13:56:57.819Z"
   },
   {
    "duration": 7626,
    "start_time": "2022-06-13T13:57:30.225Z"
   },
   {
    "duration": 6949,
    "start_time": "2022-06-13T13:58:08.765Z"
   },
   {
    "duration": 5,
    "start_time": "2022-06-13T13:58:48.750Z"
   },
   {
    "duration": 12,
    "start_time": "2022-06-13T13:58:51.730Z"
   },
   {
    "duration": 5,
    "start_time": "2022-06-13T14:12:48.727Z"
   },
   {
    "duration": 483,
    "start_time": "2022-06-13T14:12:50.950Z"
   },
   {
    "duration": 9,
    "start_time": "2022-06-13T14:12:53.281Z"
   },
   {
    "duration": 9,
    "start_time": "2022-06-13T14:13:20.273Z"
   },
   {
    "duration": 417,
    "start_time": "2022-06-13T14:13:27.536Z"
   },
   {
    "duration": 167,
    "start_time": "2022-06-13T14:13:32.863Z"
   },
   {
    "duration": 456,
    "start_time": "2022-06-13T14:13:33.561Z"
   },
   {
    "duration": 11,
    "start_time": "2022-06-13T14:15:27.309Z"
   },
   {
    "duration": 368,
    "start_time": "2022-06-13T14:19:48.037Z"
   },
   {
    "duration": 788,
    "start_time": "2022-06-13T14:19:50.152Z"
   },
   {
    "duration": 5,
    "start_time": "2022-06-13T14:20:20.045Z"
   },
   {
    "duration": 441,
    "start_time": "2022-06-13T14:20:21.674Z"
   },
   {
    "duration": 116,
    "start_time": "2022-06-13T14:20:22.335Z"
   },
   {
    "duration": 266,
    "start_time": "2022-06-13T14:20:25.291Z"
   },
   {
    "duration": 27,
    "start_time": "2022-06-13T14:20:29.260Z"
   },
   {
    "duration": 265,
    "start_time": "2022-06-13T14:20:30.878Z"
   },
   {
    "duration": 32,
    "start_time": "2022-06-13T14:20:34.414Z"
   },
   {
    "duration": 562,
    "start_time": "2022-06-13T14:20:34.975Z"
   },
   {
    "duration": 14,
    "start_time": "2022-06-13T14:20:35.825Z"
   },
   {
    "duration": 389,
    "start_time": "2022-06-13T14:21:10.456Z"
   },
   {
    "duration": 3,
    "start_time": "2022-06-13T14:24:36.357Z"
   },
   {
    "duration": 116,
    "start_time": "2022-06-13T14:26:19.067Z"
   },
   {
    "duration": 89,
    "start_time": "2022-06-13T14:26:37.881Z"
   },
   {
    "duration": 36,
    "start_time": "2022-06-13T14:27:46.748Z"
   },
   {
    "duration": 90,
    "start_time": "2022-06-13T14:28:23.658Z"
   },
   {
    "duration": 8,
    "start_time": "2022-06-13T14:28:50.827Z"
   },
   {
    "duration": 512,
    "start_time": "2022-06-13T14:28:50.838Z"
   },
   {
    "duration": 14,
    "start_time": "2022-06-13T14:28:51.354Z"
   },
   {
    "duration": 506,
    "start_time": "2022-06-13T14:28:51.371Z"
   },
   {
    "duration": 231,
    "start_time": "2022-06-13T14:28:51.880Z"
   },
   {
    "duration": 508,
    "start_time": "2022-06-13T14:28:52.113Z"
   },
   {
    "duration": 4,
    "start_time": "2022-06-13T14:28:52.623Z"
   },
   {
    "duration": 351,
    "start_time": "2022-06-13T14:28:59.786Z"
   },
   {
    "duration": 125,
    "start_time": "2022-06-13T14:29:04.233Z"
   },
   {
    "duration": 151,
    "start_time": "2022-06-13T14:29:13.721Z"
   },
   {
    "duration": 21,
    "start_time": "2022-06-13T14:29:18.325Z"
   },
   {
    "duration": 161,
    "start_time": "2022-06-13T14:29:19.216Z"
   },
   {
    "duration": 33,
    "start_time": "2022-06-13T14:29:24.868Z"
   },
   {
    "duration": 415,
    "start_time": "2022-06-13T14:29:25.805Z"
   },
   {
    "duration": 13,
    "start_time": "2022-06-13T14:29:27.404Z"
   },
   {
    "duration": 277,
    "start_time": "2022-06-13T14:29:30.376Z"
   },
   {
    "duration": 1309,
    "start_time": "2022-06-13T14:29:35.893Z"
   },
   {
    "duration": 5278,
    "start_time": "2022-06-13T14:36:18.838Z"
   },
   {
    "duration": 15246,
    "start_time": "2022-06-13T19:07:09.917Z"
   },
   {
    "duration": 9273,
    "start_time": "2022-06-13T19:07:25.166Z"
   },
   {
    "duration": 113,
    "start_time": "2022-06-13T19:07:34.441Z"
   },
   {
    "duration": 1113,
    "start_time": "2022-06-13T19:07:34.555Z"
   },
   {
    "duration": 1403,
    "start_time": "2022-06-13T19:07:35.723Z"
   },
   {
    "duration": 1167,
    "start_time": "2022-06-13T19:07:37.128Z"
   },
   {
    "duration": 3,
    "start_time": "2022-06-13T19:07:38.324Z"
   },
   {
    "duration": 1605,
    "start_time": "2022-06-13T19:07:38.328Z"
   },
   {
    "duration": 499,
    "start_time": "2022-06-13T19:07:39.935Z"
   },
   {
    "duration": 794,
    "start_time": "2022-06-13T19:07:40.436Z"
   },
   {
    "duration": 94,
    "start_time": "2022-06-13T19:07:41.232Z"
   },
   {
    "duration": 430,
    "start_time": "2022-06-13T19:07:41.328Z"
   },
   {
    "duration": 89,
    "start_time": "2022-06-13T19:07:41.760Z"
   },
   {
    "duration": 1398,
    "start_time": "2022-06-13T19:07:41.852Z"
   },
   {
    "duration": 72,
    "start_time": "2022-06-13T19:07:43.252Z"
   },
   {
    "duration": 550,
    "start_time": "2022-06-13T19:07:43.326Z"
   },
   {
    "duration": 3345,
    "start_time": "2022-06-13T19:07:43.878Z"
   },
   {
    "duration": 12214,
    "start_time": "2022-06-13T19:07:47.225Z"
   },
   {
    "duration": 10,
    "start_time": "2022-06-13T19:07:59.441Z"
   },
   {
    "duration": 34,
    "start_time": "2022-06-13T19:16:39.101Z"
   },
   {
    "duration": 30,
    "start_time": "2022-06-13T19:17:16.768Z"
   },
   {
    "duration": 24,
    "start_time": "2022-06-13T19:23:16.683Z"
   },
   {
    "duration": 69,
    "start_time": "2022-06-13T19:23:24.084Z"
   },
   {
    "duration": 5,
    "start_time": "2022-06-13T19:23:26.814Z"
   },
   {
    "duration": 18,
    "start_time": "2022-06-13T19:27:04.438Z"
   },
   {
    "duration": 5,
    "start_time": "2022-06-13T19:27:13.685Z"
   },
   {
    "duration": 19013,
    "start_time": "2022-06-14T16:38:19.619Z"
   },
   {
    "duration": 8799,
    "start_time": "2022-06-14T16:38:56.685Z"
   },
   {
    "duration": 80,
    "start_time": "2022-06-14T16:39:10.303Z"
   },
   {
    "duration": 4003,
    "start_time": "2022-06-14T16:42:24.281Z"
   },
   {
    "duration": 1623,
    "start_time": "2022-06-14T16:42:48.279Z"
   },
   {
    "duration": 1206,
    "start_time": "2022-06-14T16:43:25.282Z"
   },
   {
    "duration": 2200,
    "start_time": "2022-06-14T16:48:08.813Z"
   },
   {
    "duration": 1154,
    "start_time": "2022-06-14T16:48:28.032Z"
   },
   {
    "duration": 902,
    "start_time": "2022-06-14T16:49:53.087Z"
   },
   {
    "duration": 74,
    "start_time": "2022-06-14T16:50:18.033Z"
   },
   {
    "duration": 26,
    "start_time": "2022-06-14T16:50:51.695Z"
   },
   {
    "duration": 13,
    "start_time": "2022-06-14T16:50:56.684Z"
   },
   {
    "duration": 11,
    "start_time": "2022-06-14T16:51:25.401Z"
   },
   {
    "duration": 1227,
    "start_time": "2022-06-14T16:51:33.764Z"
   },
   {
    "duration": 646,
    "start_time": "2022-06-14T16:51:42.462Z"
   },
   {
    "duration": 1127,
    "start_time": "2022-06-14T16:52:30.685Z"
   },
   {
    "duration": 12,
    "start_time": "2022-06-14T16:53:18.130Z"
   },
   {
    "duration": 528,
    "start_time": "2022-06-14T16:53:33.569Z"
   },
   {
    "duration": 11,
    "start_time": "2022-06-14T16:54:19.432Z"
   },
   {
    "duration": 467,
    "start_time": "2022-06-14T16:54:36.312Z"
   },
   {
    "duration": 5,
    "start_time": "2022-06-14T16:55:12.310Z"
   },
   {
    "duration": 605,
    "start_time": "2022-06-14T16:55:14.115Z"
   },
   {
    "duration": 9,
    "start_time": "2022-06-14T16:55:16.137Z"
   },
   {
    "duration": 822,
    "start_time": "2022-06-14T16:55:21.086Z"
   },
   {
    "duration": 640,
    "start_time": "2022-06-14T16:55:23.473Z"
   },
   {
    "duration": 511,
    "start_time": "2022-06-14T16:55:25.479Z"
   },
   {
    "duration": 677,
    "start_time": "2022-06-14T16:55:44.432Z"
   },
   {
    "duration": 439,
    "start_time": "2022-06-14T16:55:59.253Z"
   },
   {
    "duration": 381,
    "start_time": "2022-06-14T16:57:15.408Z"
   },
   {
    "duration": 7,
    "start_time": "2022-06-14T17:10:13.546Z"
   },
   {
    "duration": 132,
    "start_time": "2022-06-14T17:10:46.188Z"
   },
   {
    "duration": 3,
    "start_time": "2022-06-14T17:17:25.987Z"
   },
   {
    "duration": 14,
    "start_time": "2022-06-14T17:17:33.880Z"
   },
   {
    "duration": 12,
    "start_time": "2022-06-14T17:17:57.967Z"
   },
   {
    "duration": 17,
    "start_time": "2022-06-14T17:18:31.181Z"
   },
   {
    "duration": 15,
    "start_time": "2022-06-14T17:18:50.985Z"
   },
   {
    "duration": 12,
    "start_time": "2022-06-14T17:18:55.237Z"
   },
   {
    "duration": 5,
    "start_time": "2022-06-14T17:19:37.394Z"
   },
   {
    "duration": 34,
    "start_time": "2022-06-14T17:21:07.248Z"
   },
   {
    "duration": 13,
    "start_time": "2022-06-14T17:21:21.647Z"
   },
   {
    "duration": 31,
    "start_time": "2022-06-14T17:21:31.833Z"
   },
   {
    "duration": 13,
    "start_time": "2022-06-14T17:21:38.732Z"
   },
   {
    "duration": 506,
    "start_time": "2022-06-14T17:22:29.694Z"
   },
   {
    "duration": 1478,
    "start_time": "2022-06-14T17:22:55.627Z"
   },
   {
    "duration": 5,
    "start_time": "2022-06-14T17:25:08.602Z"
   },
   {
    "duration": 528,
    "start_time": "2022-06-14T17:25:08.608Z"
   },
   {
    "duration": 11,
    "start_time": "2022-06-14T17:25:09.137Z"
   },
   {
    "duration": 729,
    "start_time": "2022-06-14T17:25:09.150Z"
   },
   {
    "duration": 514,
    "start_time": "2022-06-14T17:25:09.881Z"
   },
   {
    "duration": 398,
    "start_time": "2022-06-14T17:25:10.397Z"
   },
   {
    "duration": 182,
    "start_time": "2022-06-14T17:25:10.797Z"
   },
   {
    "duration": 221,
    "start_time": "2022-06-14T17:25:10.980Z"
   },
   {
    "duration": 903,
    "start_time": "2022-06-14T17:25:11.203Z"
   },
   {
    "duration": 2,
    "start_time": "2022-06-14T17:25:19.976Z"
   },
   {
    "duration": 1245,
    "start_time": "2022-06-14T17:25:21.356Z"
   },
   {
    "duration": 288,
    "start_time": "2022-06-14T17:25:22.603Z"
   },
   {
    "duration": 588,
    "start_time": "2022-06-14T17:25:22.892Z"
   },
   {
    "duration": 41,
    "start_time": "2022-06-14T17:25:25.740Z"
   },
   {
    "duration": 238,
    "start_time": "2022-06-14T17:25:25.967Z"
   },
   {
    "duration": 33,
    "start_time": "2022-06-14T17:25:29.353Z"
   },
   {
    "duration": 1146,
    "start_time": "2022-06-14T17:25:29.537Z"
   },
   {
    "duration": 6,
    "start_time": "2022-06-14T17:25:30.684Z"
   },
   {
    "duration": 274,
    "start_time": "2022-06-14T17:25:33.942Z"
   },
   {
    "duration": 3335,
    "start_time": "2022-06-14T17:25:37.761Z"
   },
   {
    "duration": 8960,
    "start_time": "2022-06-14T17:38:01.262Z"
   },
   {
    "duration": 1726,
    "start_time": "2022-06-14T17:44:47.685Z"
   },
   {
    "duration": 1809,
    "start_time": "2022-06-14T17:46:20.099Z"
   },
   {
    "duration": 8,
    "start_time": "2022-06-14T17:47:02.841Z"
   },
   {
    "duration": 0,
    "start_time": "2022-06-14T17:47:02.851Z"
   },
   {
    "duration": 0,
    "start_time": "2022-06-14T17:47:02.852Z"
   },
   {
    "duration": 0,
    "start_time": "2022-06-14T17:47:02.853Z"
   },
   {
    "duration": 0,
    "start_time": "2022-06-14T17:47:02.854Z"
   },
   {
    "duration": 0,
    "start_time": "2022-06-14T17:47:02.855Z"
   },
   {
    "duration": 0,
    "start_time": "2022-06-14T17:47:02.856Z"
   },
   {
    "duration": 0,
    "start_time": "2022-06-14T17:47:02.857Z"
   },
   {
    "duration": 0,
    "start_time": "2022-06-14T17:47:02.858Z"
   },
   {
    "duration": 0,
    "start_time": "2022-06-14T17:47:02.859Z"
   },
   {
    "duration": 78,
    "start_time": "2022-06-14T17:47:02.861Z"
   },
   {
    "duration": 0,
    "start_time": "2022-06-14T17:47:02.944Z"
   },
   {
    "duration": 0,
    "start_time": "2022-06-14T17:47:02.945Z"
   },
   {
    "duration": 0,
    "start_time": "2022-06-14T17:47:02.946Z"
   },
   {
    "duration": 0,
    "start_time": "2022-06-14T17:47:02.948Z"
   },
   {
    "duration": 0,
    "start_time": "2022-06-14T17:47:02.949Z"
   },
   {
    "duration": 0,
    "start_time": "2022-06-14T17:47:02.950Z"
   },
   {
    "duration": 0,
    "start_time": "2022-06-14T17:47:02.951Z"
   },
   {
    "duration": 0,
    "start_time": "2022-06-14T17:47:02.952Z"
   },
   {
    "duration": 0,
    "start_time": "2022-06-14T17:47:02.953Z"
   },
   {
    "duration": 7,
    "start_time": "2022-06-14T17:49:57.956Z"
   },
   {
    "duration": 517,
    "start_time": "2022-06-14T17:49:59.967Z"
   },
   {
    "duration": 7,
    "start_time": "2022-06-14T17:50:01.553Z"
   },
   {
    "duration": 588,
    "start_time": "2022-06-14T17:50:02.797Z"
   },
   {
    "duration": 818,
    "start_time": "2022-06-14T17:50:03.387Z"
   },
   {
    "duration": 336,
    "start_time": "2022-06-14T17:50:04.207Z"
   },
   {
    "duration": 93,
    "start_time": "2022-06-14T17:50:04.901Z"
   },
   {
    "duration": 195,
    "start_time": "2022-06-14T17:50:05.706Z"
   },
   {
    "duration": 718,
    "start_time": "2022-06-14T17:50:05.972Z"
   },
   {
    "duration": 3,
    "start_time": "2022-06-14T17:50:07.771Z"
   },
   {
    "duration": 314,
    "start_time": "2022-06-14T17:50:09.090Z"
   },
   {
    "duration": 100,
    "start_time": "2022-06-14T17:50:10.334Z"
   },
   {
    "duration": 152,
    "start_time": "2022-06-14T17:50:11.278Z"
   },
   {
    "duration": 18,
    "start_time": "2022-06-14T17:50:12.070Z"
   },
   {
    "duration": 94,
    "start_time": "2022-06-14T17:50:12.338Z"
   },
   {
    "duration": 17,
    "start_time": "2022-06-14T17:50:13.870Z"
   },
   {
    "duration": 301,
    "start_time": "2022-06-14T17:50:14.111Z"
   },
   {
    "duration": 5,
    "start_time": "2022-06-14T17:50:14.583Z"
   },
   {
    "duration": 136,
    "start_time": "2022-06-14T17:50:15.947Z"
   },
   {
    "duration": 992,
    "start_time": "2022-06-14T17:50:17.703Z"
   },
   {
    "duration": 1955,
    "start_time": "2022-06-14T17:50:26.539Z"
   },
   {
    "duration": 2933,
    "start_time": "2022-06-14T17:53:58.103Z"
   },
   {
    "duration": 1209,
    "start_time": "2022-06-14T17:55:35.197Z"
   },
   {
    "duration": 1110,
    "start_time": "2022-06-14T17:58:03.608Z"
   },
   {
    "duration": 1860,
    "start_time": "2022-06-14T18:00:56.119Z"
   },
   {
    "duration": 1559,
    "start_time": "2022-06-14T18:03:24.154Z"
   },
   {
    "duration": 1535,
    "start_time": "2022-06-14T18:04:02.585Z"
   },
   {
    "duration": 1532,
    "start_time": "2022-06-14T18:04:49.382Z"
   },
   {
    "duration": 3557,
    "start_time": "2022-06-14T18:05:43.197Z"
   },
   {
    "duration": 1052,
    "start_time": "2022-06-14T18:07:03.433Z"
   },
   {
    "duration": 1097,
    "start_time": "2022-06-14T18:08:13.096Z"
   },
   {
    "duration": 960,
    "start_time": "2022-06-14T18:08:56.549Z"
   },
   {
    "duration": 1217,
    "start_time": "2022-06-14T18:09:16.888Z"
   },
   {
    "duration": 1014,
    "start_time": "2022-06-14T18:09:28.457Z"
   },
   {
    "duration": 2862,
    "start_time": "2022-06-14T18:10:36.157Z"
   },
   {
    "duration": 2427,
    "start_time": "2022-06-14T18:10:51.121Z"
   },
   {
    "duration": 1197,
    "start_time": "2022-06-14T18:14:22.199Z"
   },
   {
    "duration": 1057,
    "start_time": "2022-06-14T18:14:42.138Z"
   },
   {
    "duration": 1171,
    "start_time": "2022-06-14T18:15:58.551Z"
   },
   {
    "duration": 1231,
    "start_time": "2022-06-14T18:16:14.006Z"
   },
   {
    "duration": 46,
    "start_time": "2022-06-14T18:20:17.899Z"
   },
   {
    "duration": 163,
    "start_time": "2022-06-14T18:20:26.589Z"
   },
   {
    "duration": 28,
    "start_time": "2022-06-14T18:20:36.779Z"
   },
   {
    "duration": 25,
    "start_time": "2022-06-14T18:20:47.889Z"
   },
   {
    "duration": 448,
    "start_time": "2022-06-14T18:20:47.916Z"
   },
   {
    "duration": 15,
    "start_time": "2022-06-14T18:20:48.365Z"
   },
   {
    "duration": 437,
    "start_time": "2022-06-14T18:20:48.382Z"
   },
   {
    "duration": 1374,
    "start_time": "2022-06-14T18:20:48.820Z"
   },
   {
    "duration": 509,
    "start_time": "2022-06-14T18:20:50.195Z"
   },
   {
    "duration": 183,
    "start_time": "2022-06-14T18:20:50.706Z"
   },
   {
    "duration": 222,
    "start_time": "2022-06-14T18:20:50.890Z"
   },
   {
    "duration": 792,
    "start_time": "2022-06-14T18:20:51.114Z"
   },
   {
    "duration": 3,
    "start_time": "2022-06-14T18:20:51.908Z"
   },
   {
    "duration": 378,
    "start_time": "2022-06-14T18:20:51.912Z"
   },
   {
    "duration": 119,
    "start_time": "2022-06-14T18:20:52.292Z"
   },
   {
    "duration": 197,
    "start_time": "2022-06-14T18:20:52.413Z"
   },
   {
    "duration": 66,
    "start_time": "2022-06-14T18:20:52.612Z"
   },
   {
    "duration": 122,
    "start_time": "2022-06-14T18:20:52.680Z"
   },
   {
    "duration": 16,
    "start_time": "2022-06-14T18:20:52.804Z"
   },
   {
    "duration": 435,
    "start_time": "2022-06-14T18:20:52.879Z"
   },
   {
    "duration": 64,
    "start_time": "2022-06-14T18:20:53.316Z"
   },
   {
    "duration": 201,
    "start_time": "2022-06-14T18:20:53.381Z"
   },
   {
    "duration": 1295,
    "start_time": "2022-06-14T18:20:53.584Z"
   },
   {
    "duration": 37,
    "start_time": "2022-06-14T18:20:54.881Z"
   },
   {
    "duration": 1042,
    "start_time": "2022-06-14T18:21:11.794Z"
   },
   {
    "duration": 1402,
    "start_time": "2022-06-14T18:22:16.510Z"
   },
   {
    "duration": 3885,
    "start_time": "2022-06-14T18:22:24.907Z"
   },
   {
    "duration": 3167,
    "start_time": "2022-06-14T18:22:50.469Z"
   },
   {
    "duration": 3033,
    "start_time": "2022-06-14T18:22:59.875Z"
   },
   {
    "duration": 1856,
    "start_time": "2022-06-14T18:23:12.245Z"
   },
   {
    "duration": 3189,
    "start_time": "2022-06-14T18:24:33.415Z"
   },
   {
    "duration": 3297,
    "start_time": "2022-06-14T18:24:49.882Z"
   },
   {
    "duration": 1000,
    "start_time": "2022-06-14T18:27:42.183Z"
   },
   {
    "duration": 1022,
    "start_time": "2022-06-14T18:28:37.988Z"
   },
   {
    "duration": 1284,
    "start_time": "2022-06-14T18:28:49.112Z"
   },
   {
    "duration": 965,
    "start_time": "2022-06-14T18:29:43.746Z"
   },
   {
    "duration": 8,
    "start_time": "2022-06-14T18:30:43.716Z"
   },
   {
    "duration": 406,
    "start_time": "2022-06-14T18:30:43.726Z"
   },
   {
    "duration": 11,
    "start_time": "2022-06-14T18:30:44.134Z"
   },
   {
    "duration": 492,
    "start_time": "2022-06-14T18:30:44.147Z"
   },
   {
    "duration": 494,
    "start_time": "2022-06-14T18:30:44.641Z"
   },
   {
    "duration": 557,
    "start_time": "2022-06-14T18:30:45.137Z"
   },
   {
    "duration": 138,
    "start_time": "2022-06-14T18:30:45.696Z"
   },
   {
    "duration": 301,
    "start_time": "2022-06-14T18:30:45.877Z"
   },
   {
    "duration": 515,
    "start_time": "2022-06-14T18:30:46.180Z"
   },
   {
    "duration": 2,
    "start_time": "2022-06-14T18:30:46.698Z"
   },
   {
    "duration": 210,
    "start_time": "2022-06-14T18:30:46.701Z"
   },
   {
    "duration": 140,
    "start_time": "2022-06-14T18:30:46.913Z"
   },
   {
    "duration": 125,
    "start_time": "2022-06-14T18:30:47.054Z"
   },
   {
    "duration": 16,
    "start_time": "2022-06-14T18:30:47.181Z"
   },
   {
    "duration": 128,
    "start_time": "2022-06-14T18:30:47.199Z"
   },
   {
    "duration": 20,
    "start_time": "2022-06-14T18:30:47.328Z"
   },
   {
    "duration": 326,
    "start_time": "2022-06-14T18:30:47.379Z"
   },
   {
    "duration": 5,
    "start_time": "2022-06-14T18:30:47.707Z"
   },
   {
    "duration": 175,
    "start_time": "2022-06-14T18:30:47.714Z"
   },
   {
    "duration": 624,
    "start_time": "2022-06-14T18:30:47.891Z"
   },
   {
    "duration": 1069,
    "start_time": "2022-06-14T18:30:48.517Z"
   },
   {
    "duration": 0,
    "start_time": "2022-06-14T18:30:49.588Z"
   },
   {
    "duration": 1991,
    "start_time": "2022-06-14T18:34:26.789Z"
   },
   {
    "duration": 2886,
    "start_time": "2022-06-14T18:36:53.385Z"
   },
   {
    "duration": 4189,
    "start_time": "2022-06-14T18:39:44.997Z"
   },
   {
    "duration": 8,
    "start_time": "2022-06-14T18:41:16.965Z"
   },
   {
    "duration": 5,
    "start_time": "2022-06-14T18:44:49.649Z"
   },
   {
    "duration": 262,
    "start_time": "2022-06-14T18:44:49.656Z"
   },
   {
    "duration": 11,
    "start_time": "2022-06-14T18:44:49.921Z"
   },
   {
    "duration": 445,
    "start_time": "2022-06-14T18:44:49.934Z"
   },
   {
    "duration": 363,
    "start_time": "2022-06-14T18:44:50.380Z"
   },
   {
    "duration": 315,
    "start_time": "2022-06-14T18:44:50.745Z"
   },
   {
    "duration": 95,
    "start_time": "2022-06-14T18:44:51.062Z"
   },
   {
    "duration": 122,
    "start_time": "2022-06-14T18:44:51.159Z"
   },
   {
    "duration": 397,
    "start_time": "2022-06-14T18:44:51.282Z"
   },
   {
    "duration": 3,
    "start_time": "2022-06-14T18:44:51.681Z"
   },
   {
    "duration": 211,
    "start_time": "2022-06-14T18:44:51.686Z"
   },
   {
    "duration": 153,
    "start_time": "2022-06-14T18:44:51.899Z"
   },
   {
    "duration": 88,
    "start_time": "2022-06-14T18:44:52.054Z"
   },
   {
    "duration": 34,
    "start_time": "2022-06-14T18:44:52.144Z"
   },
   {
    "duration": 101,
    "start_time": "2022-06-14T18:44:52.181Z"
   },
   {
    "duration": 14,
    "start_time": "2022-06-14T18:44:52.284Z"
   },
   {
    "duration": 299,
    "start_time": "2022-06-14T18:44:52.300Z"
   },
   {
    "duration": 5,
    "start_time": "2022-06-14T18:44:52.600Z"
   },
   {
    "duration": 112,
    "start_time": "2022-06-14T18:44:52.606Z"
   },
   {
    "duration": 864,
    "start_time": "2022-06-14T18:44:52.720Z"
   },
   {
    "duration": 4228,
    "start_time": "2022-06-14T18:44:53.586Z"
   },
   {
    "duration": 10,
    "start_time": "2022-06-14T18:44:57.816Z"
   },
   {
    "duration": 292,
    "start_time": "2022-06-14T18:44:57.828Z"
   }
  ],
  "colab": {
   "name": "PySparkSprint.ipynb",
   "provenance": []
  },
  "kernelspec": {
   "display_name": "Python 3 (ipykernel)",
   "language": "python",
   "name": "python3"
  },
  "language_info": {
   "codemirror_mode": {
    "name": "ipython",
    "version": 3
   },
   "file_extension": ".py",
   "mimetype": "text/x-python",
   "name": "python",
   "nbconvert_exporter": "python",
   "pygments_lexer": "ipython3",
   "version": "3.9.5"
  },
  "toc": {
   "base_numbering": 1,
   "nav_menu": {},
   "number_sections": true,
   "sideBar": true,
   "skip_h1_title": true,
   "title_cell": "Table of Contents",
   "title_sidebar": "Contents",
   "toc_cell": false,
   "toc_position": {},
   "toc_section_display": true,
   "toc_window_display": false
  }
 },
 "nbformat": 4,
 "nbformat_minor": 5
}
